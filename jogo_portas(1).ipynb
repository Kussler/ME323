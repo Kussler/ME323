{
 "cells": [
  {
   "cell_type": "markdown",
   "metadata": {},
   "source": [
    "Caso de teste individual:"
   ]
  },
  {
   "cell_type": "code",
   "execution_count": 12,
   "metadata": {},
   "outputs": [
    {
     "name": "stdin",
     "output_type": "stream",
     "text": [
      "Número de testes? 500\n",
      "1 com troca / 0 sem troca 0\n"
     ]
    },
    {
     "name": "stdout",
     "output_type": "stream",
     "text": [
      "Vitórias:153     Derrotas:347\n",
      "Porcentagem:0.306\n"
     ]
    }
   ],
   "source": [
    "import random\n",
    "vencidas =0\n",
    "perdidas =0\n",
    "N_testes = int(input(\"Número de testes?\"))\n",
    "troca = input(\"1 com troca / 0 sem troca\")\n",
    "\n",
    "\n",
    "for i in range(N_testes):\n",
    "    vencedora = random.randint(1,3)\n",
    "    escolhida = random.randint(1,3)\n",
    "    if (escolhida == 1):\n",
    "        if(vencedora !=2):   \n",
    "            if(troca ==1):\n",
    "                escolhida = 3\n",
    "                print(\"teste falho\")\n",
    "        else:\n",
    "            if(troca ==1):\n",
    "                escolhida = 2\n",
    "    elif(escolhida == 2):\n",
    "        if(vencedora !=3):   \n",
    "            if(troca ==1):\n",
    "                escolhida = 1\n",
    "        else:\n",
    "            if(troca ==1):\n",
    "                escolhida = 3\n",
    "    else:\n",
    "        if(vencedora != 2):   \n",
    "            if(troca ==1):\n",
    "                escolhida = 1\n",
    "        else:\n",
    "            if(troca ==1):\n",
    "                escolhida = 2\n",
    "\n",
    "    if(vencedora == escolhida):\n",
    "        vencidas += 1\n",
    "    else:\n",
    "        perdidas += 1\n",
    "    \n",
    "print(\"Vitórias:\"+ str(vencidas) + \"     Derrotas:\"+ str(perdidas))   \n",
    "print(\"Porcentagem:\" + str(vencidas/N_testes))\n"
   ]
  },
  {
   "cell_type": "markdown",
   "metadata": {},
   "source": [
    "Caso de teste e escrita em txt(apagar oi.txt caso rode novamente):"
   ]
  },
  {
   "cell_type": "code",
   "execution_count": 17,
   "metadata": {},
   "outputs": [
    {
     "name": "stdin",
     "output_type": "stream",
     "text": [
      "Número de testes? 100000\n",
      "1 com troca / 0 sem troca 0\n"
     ]
    }
   ],
   "source": [
    "import random\n",
    "vencidas =0\n",
    "perdidas =0\n",
    "N_testes = int(input(\"Número de testes?\"))\n",
    "troca = input(\"1 com troca / 0 sem troca\")\n",
    "x = open(\"oi.txt\", \"w\")\n",
    "if (troca == 1):\n",
    "    x.write(\"caso com troca\\n\")\n",
    "else:\n",
    "    x.write(\"caso sem troca\\n\")\n",
    "x.write(\"iteração\\t vencidas\\t perdidas\\t porcentagem\\t\\n\")\n",
    "\n",
    "for i in range(N_testes):\n",
    "    vencedora = random.randint(1,3)\n",
    "    escolhida = random.randint(1,3)\n",
    "    if (escolhida == 1):\n",
    "        if(vencedora !=2):   \n",
    "            if(troca ==1):\n",
    "                escolhida = 3\n",
    "        else:\n",
    "            if(troca ==1):\n",
    "                escolhida = 2\n",
    "    elif(escolhida == 2):\n",
    "        if(vencedora !=3):   \n",
    "            if(troca ==1):\n",
    "                escolhida = 1\n",
    "        else:\n",
    "            if(troca ==1):\n",
    "                escolhida = 3\n",
    "    else:\n",
    "        if(vencedora != 2):   \n",
    "            if(troca ==1):\n",
    "                escolhida = 1\n",
    "        else:\n",
    "            if(troca ==1):\n",
    "                escolhida = 2\n",
    "\n",
    "    if(vencedora == escolhida):\n",
    "        vencidas += 1\n",
    "    else:\n",
    "        perdidas += 1\n",
    "    x.write(str((i+1))+\"\\t\"+str(vencidas)+\"\\t\"+str(perdidas)+\"\\t\"+str(vencidas/(i+1))+\"\\n\")\n",
    "\n",
    "x.close()"
   ]
  },
  {
   "cell_type": "code",
   "execution_count": null,
   "metadata": {},
   "outputs": [],
   "source": []
  }
 ],
 "metadata": {
  "kernelspec": {
   "display_name": "Python 3",
   "language": "python",
   "name": "python3"
  },
  "language_info": {
   "codemirror_mode": {
    "name": "ipython",
    "version": 3
   },
   "file_extension": ".py",
   "mimetype": "text/x-python",
   "name": "python",
   "nbconvert_exporter": "python",
   "pygments_lexer": "ipython3",
   "version": "3.6.7"
  }
 },
 "nbformat": 4,
 "nbformat_minor": 2
}
